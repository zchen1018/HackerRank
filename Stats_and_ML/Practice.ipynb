{
 "cells": [
  {
   "cell_type": "code",
   "execution_count": 4,
   "metadata": {
    "collapsed": false
   },
   "outputs": [],
   "source": [
    "import scipy.stats as stats"
   ]
  },
  {
   "cell_type": "code",
   "execution_count": 18,
   "metadata": {
    "collapsed": false
   },
   "outputs": [
    {
     "name": "stdout",
     "output_type": "stream",
     "text": [
      "0.401\n",
      "0.341\n"
     ]
    }
   ],
   "source": [
    "# Normal dist.\n",
    "norm = stats.norm(loc = 20, scale = 2)\n",
    "# P(X < 19.5)\n",
    "print round(norm.cdf(19.5), 3)\n",
    "# P(20 < X < 22)\n",
    "print round(norm.cdf(22) - norm.cdf(20), 3)"
   ]
  },
  {
   "cell_type": "code",
   "execution_count": 19,
   "metadata": {
    "collapsed": false
   },
   "outputs": [
    {
     "name": "stdout",
     "output_type": "stream",
     "text": [
      "15.87\n",
      "84.13\n",
      "15.87\n"
     ]
    }
   ],
   "source": [
    "norm = stats.norm(loc = 70, scale = 10)\n",
    "# P(X > 80)\n",
    "print round((1 - norm.cdf(80))*100, 2)\n",
    "# P(X >= 60)\n",
    "print round((1 - norm.cdf(60))*100, 2)\n",
    "# P(X < 60)\n",
    "print round((norm.cdf(60))*100, 2)"
   ]
  },
  {
   "cell_type": "code",
   "execution_count": 25,
   "metadata": {
    "collapsed": false
   },
   "outputs": [
    {
     "name": "stdout",
     "output_type": "stream",
     "text": [
      "0.819\n",
      "0.027\n"
     ]
    }
   ],
   "source": [
    "# Binomial Distribution #1\n",
    "bino = stats.binom(n = 4, p = 0.8)\n",
    "# P(X > 2)\n",
    "print round(1 - bino.cdf(2), 3)\n",
    "# P(X <= 1)\n",
    "print round(bino.cdf(1), 3)"
   ]
  },
  {
   "cell_type": "code",
   "execution_count": 26,
   "metadata": {
    "collapsed": false
   },
   "outputs": [
    {
     "name": "stdout",
     "output_type": "stream",
     "text": [
      "0.696\n"
     ]
    }
   ],
   "source": [
    "# Binomial Distribution #2\n",
    "bino = stats.binom(n = 6, p = 1.09 / (1+1.09))\n",
    "print round(1-bino.cdf(2), 3)"
   ]
  },
  {
   "cell_type": "code",
   "execution_count": 29,
   "metadata": {
    "collapsed": false
   },
   "outputs": [
    {
     "name": "stdout",
     "output_type": "stream",
     "text": [
      "0.891\n",
      "0.342\n"
     ]
    }
   ],
   "source": [
    "# Binomial Distribution #3\n",
    "# X: num of rejected pistons in a batch of n\n",
    "bino = stats.binom(n = 10, p = 0.12)\n",
    "# P(X <= 2)\n",
    "print round(bino.cdf(2), 3)\n",
    "# P(X >= 2) = 1 - P(X <= 1)\n",
    "print round(1 - bino.cdf(1), 3)"
   ]
  },
  {
   "cell_type": "code",
   "execution_count": 23,
   "metadata": {
    "collapsed": false
   },
   "outputs": [
    {
     "name": "stdout",
     "output_type": "stream",
     "text": [
      "2\n",
      "1 3 5\n",
      "4 2 0\n",
      "-1.0 \n",
      "1.0 \n",
      "-1.0\n"
     ]
    }
   ],
   "source": [
    "# Day 5: Computing the Correlation\n",
    "import math\n",
    "rows = int(input())\n",
    "Math, Phys, Chem = [], [], []\n",
    "for _ in range(rows):\n",
    "    m, p, c = raw_input().split()\n",
    "    Math.append(int(m))\n",
    "    Phys.append(int(p))\n",
    "    Chem.append(int(c))\n",
    "# print Math, Phys, Chem\n",
    "def dem(var):\n",
    "    n = len(var)\n",
    "    sum_var = sum(var)\n",
    "    sum_sqr = sum([x**2 for x in var])\n",
    "    return math.sqrt(n*sum_sqr - (sum_var)**2)\n",
    "def num(var1, var2):\n",
    "    output = 0\n",
    "    n = len(var1)\n",
    "    for i in range(n):\n",
    "        output += var1[i] * var2[i]\n",
    "    return n*output - sum(var1) * sum(var2)\n",
    "print round(num(Math, Phys)/(dem(Math)*dem(Phys)), 2), '\\n', round(num(Chem, Phys)/(dem(Chem)*dem(Phys)),2), '\\n', \\\n",
    "    round(num(Math, Chem)/(dem(Math)*dem(Chem)), 2)"
   ]
  },
  {
   "cell_type": "code",
   "execution_count": 2,
   "metadata": {
    "collapsed": false
   },
   "outputs": [
    {
     "name": "stdout",
     "output_type": "stream",
     "text": [
      " 15  12  8   8   7   7   7   6   5   3\n",
      "10  25  17  11  13  17  20  13  9   15\n",
      "0.145\n"
     ]
    }
   ],
   "source": [
    "# Correlation and Regression Lines - A Quick Recap #1\n",
    "import math\n",
    "phys = [int(x) for x in raw_input().split()]\n",
    "hist = [int(x) for x in raw_input().split()]\n",
    "def corr(var1, var2):\n",
    "    num, den = 0, 0\n",
    "    n = len(var2)\n",
    "    for i in range(n):\n",
    "        num += var1[i] * var2[i]\n",
    "    num = num*n - sum(var1) * sum(var2)\n",
    "    den = math.sqrt((n*sum([x**2 for x in var1])-sum(var1)**2) * (n*sum([x**2 for x in var2])-sum(var2)**2))\n",
    "    return num/den\n",
    "print round(corr(phys, hist), 3)"
   ]
  },
  {
   "cell_type": "code",
   "execution_count": 9,
   "metadata": {
    "collapsed": false
   },
   "outputs": [
    {
     "name": "stdout",
     "output_type": "stream",
     "text": [
      "15  12  8   8   7   7   7   6   5   3\n",
      "10  25  17  11  13  17  20  13  9   15\n"
     ]
    },
    {
     "data": {
      "text/plain": [
       "0.208"
      ]
     },
     "execution_count": 9,
     "metadata": {},
     "output_type": "execute_result"
    }
   ],
   "source": [
    "# Correlation and Regression Lines - A Quick Recap #2\n",
    "phys = [int(x) for x in raw_input().split()]\n",
    "hist = [int(x) for x in raw_input().split()]\n",
    "# slope when phys is the independent variable\n",
    "round(0.145 * stats.tstd(hist) / stats.tstd(phys), 3)"
   ]
  },
  {
   "cell_type": "code",
   "execution_count": null,
   "metadata": {
    "collapsed": true
   },
   "outputs": [],
   "source": []
  }
 ],
 "metadata": {
  "kernelspec": {
   "display_name": "Python 2",
   "language": "python",
   "name": "python2"
  },
  "language_info": {
   "codemirror_mode": {
    "name": "ipython",
    "version": 2
   },
   "file_extension": ".py",
   "mimetype": "text/x-python",
   "name": "python",
   "nbconvert_exporter": "python",
   "pygments_lexer": "ipython2",
   "version": "2.7.10"
  }
 },
 "nbformat": 4,
 "nbformat_minor": 0
}
