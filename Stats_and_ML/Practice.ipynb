{
 "cells": [
  {
   "cell_type": "code",
   "execution_count": 4,
   "metadata": {
    "collapsed": false
   },
   "outputs": [],
   "source": [
    "import scipy.stats as stats"
   ]
  },
  {
   "cell_type": "code",
   "execution_count": 18,
   "metadata": {
    "collapsed": false
   },
   "outputs": [
    {
     "name": "stdout",
     "output_type": "stream",
     "text": [
      "0.401\n",
      "0.341\n"
     ]
    }
   ],
   "source": [
    "# Normal dist.\n",
    "norm = stats.norm(loc = 20, scale = 2)\n",
    "# P(X < 19.5)\n",
    "print round(norm.cdf(19.5), 3)\n",
    "# P(20 < X < 22)\n",
    "print round(norm.cdf(22) - norm.cdf(20), 3)"
   ]
  },
  {
   "cell_type": "code",
   "execution_count": 19,
   "metadata": {
    "collapsed": false
   },
   "outputs": [
    {
     "name": "stdout",
     "output_type": "stream",
     "text": [
      "15.87\n",
      "84.13\n",
      "15.87\n"
     ]
    }
   ],
   "source": [
    "norm = stats.norm(loc = 70, scale = 10)\n",
    "# P(X > 80)\n",
    "print round((1 - norm.cdf(80))*100, 2)\n",
    "# P(X >= 60)\n",
    "print round((1 - norm.cdf(60))*100, 2)\n",
    "# P(X < 60)\n",
    "print round((norm.cdf(60))*100, 2)"
   ]
  },
  {
   "cell_type": "code",
   "execution_count": 25,
   "metadata": {
    "collapsed": false
   },
   "outputs": [
    {
     "name": "stdout",
     "output_type": "stream",
     "text": [
      "0.819\n",
      "0.027\n"
     ]
    }
   ],
   "source": [
    "# Binomial Distribution #1\n",
    "bino = stats.binom(n = 4, p = 0.8)\n",
    "# P(X > 2)\n",
    "print round(1 - bino.cdf(2), 3)\n",
    "# P(X <= 1)\n",
    "print round(bino.cdf(1), 3)"
   ]
  },
  {
   "cell_type": "code",
   "execution_count": 26,
   "metadata": {
    "collapsed": false
   },
   "outputs": [
    {
     "name": "stdout",
     "output_type": "stream",
     "text": [
      "0.696\n"
     ]
    }
   ],
   "source": [
    "# Binomial Distribution #2\n",
    "bino = stats.binom(n = 6, p = 1.09 / (1+1.09))\n",
    "print round(1-bino.cdf(2), 3)"
   ]
  },
  {
   "cell_type": "code",
   "execution_count": 29,
   "metadata": {
    "collapsed": false
   },
   "outputs": [
    {
     "name": "stdout",
     "output_type": "stream",
     "text": [
      "0.891\n",
      "0.342\n"
     ]
    }
   ],
   "source": [
    "# Binomial Distribution #3\n",
    "# X: num of rejected pistons in a batch of n\n",
    "bino = stats.binom(n = 10, p = 0.12)\n",
    "# P(X <= 2)\n",
    "print round(bino.cdf(2), 3)\n",
    "# P(X >= 2) = 1 - P(X <= 1)\n",
    "print round(1 - bino.cdf(1), 3)"
   ]
  },
  {
   "cell_type": "code",
   "execution_count": null,
   "metadata": {
    "collapsed": false
   },
   "outputs": [
    {
     "name": "stdout",
     "output_type": "stream",
     "text": [
      "2\n"
     ]
    }
   ],
   "source": [
    "# Day 5: Computing the Correlation\n",
    "rows = int(input())\n",
    "M, P, C = [], [], []\n",
    "for _ in range(rows):\n",
    "    m, p, c = input().split(\" \")\n",
    "    M.append(m)\n",
    "    C.append(p)\n",
    "    P.append(c)\n",
    "print M, P, C"
   ]
  },
  {
   "cell_type": "code",
   "execution_count": 31,
   "metadata": {
    "collapsed": false
   },
   "outputs": [
    {
     "name": "stdout",
     "output_type": "stream",
     "text": [
      "1 2 3\n"
     ]
    }
   ],
   "source": [
    "a, b, c = [1,2,3]\n",
    "print a, b, c"
   ]
  },
  {
   "cell_type": "code",
   "execution_count": null,
   "metadata": {
    "collapsed": true
   },
   "outputs": [],
   "source": []
  }
 ],
 "metadata": {
  "kernelspec": {
   "display_name": "Python 2",
   "language": "python",
   "name": "python2"
  },
  "language_info": {
   "codemirror_mode": {
    "name": "ipython",
    "version": 2
   },
   "file_extension": ".py",
   "mimetype": "text/x-python",
   "name": "python",
   "nbconvert_exporter": "python",
   "pygments_lexer": "ipython2",
   "version": "2.7.10"
  }
 },
 "nbformat": 4,
 "nbformat_minor": 0
}
